{
  "nbformat": 4,
  "nbformat_minor": 0,
  "metadata": {
    "colab": {
      "provenance": [],
      "authorship_tag": "ABX9TyMahaEgXMGv5CwHvGDqA5DT",
      "include_colab_link": true
    },
    "kernelspec": {
      "name": "python3",
      "display_name": "Python 3"
    },
    "language_info": {
      "name": "python"
    }
  },
  "cells": [
    {
      "cell_type": "markdown",
      "metadata": {
        "id": "view-in-github",
        "colab_type": "text"
      },
      "source": [
        "<a href=\"https://colab.research.google.com/github/hsnam95/class2022Fall/blob/main/%EA%B5%90%EB%B3%B4API.ipynb\" target=\"_parent\"><img src=\"https://colab.research.google.com/assets/colab-badge.svg\" alt=\"Open In Colab\"/></a>"
      ]
    },
    {
      "cell_type": "code",
      "source": [
        "import pandas as pd\n",
        "import json\n",
        "import requests"
      ],
      "metadata": {
        "id": "nhZj-Bi8Atg2"
      },
      "execution_count": 28,
      "outputs": []
    },
    {
      "cell_type": "code",
      "source": [
        "bookID = 'S000000620181'\n",
        "url='https://product.kyobobook.co.kr/api/review/list?page=1&pageLimit=10000&reviewSort=001&revwPatrCode=000&saleCmdtid='+bookID"
      ],
      "metadata": {
        "id": "j4Cj1FNgAyDU"
      },
      "execution_count": 13,
      "outputs": []
    },
    {
      "cell_type": "code",
      "source": [
        "response = requests.get(url)\n",
        "response"
      ],
      "metadata": {
        "id": "P2y8pa1teetY"
      },
      "execution_count": null,
      "outputs": []
    },
    {
      "cell_type": "code",
      "source": [
        "json_txt = response.text\n",
        "dict_data = json.loads(json_txt)"
      ],
      "metadata": {
        "id": "nU26-rUceiyY"
      },
      "execution_count": 15,
      "outputs": []
    },
    {
      "cell_type": "code",
      "source": [
        "df = pd.DataFrame(dict_data['data']['reviewList'])"
      ],
      "metadata": {
        "id": "DMlya8yXe5DH"
      },
      "execution_count": 31,
      "outputs": []
    },
    {
      "cell_type": "code",
      "source": [
        "df.to_excel('review.xls')"
      ],
      "metadata": {
        "id": "shEXbNuF25m0"
      },
      "execution_count": null,
      "outputs": []
    },
    {
      "cell_type": "code",
      "source": [
        "df.to_csv('review.csv')"
      ],
      "metadata": {
        "id": "_DVrUrYXykvL"
      },
      "execution_count": null,
      "outputs": []
    },
    {
      "cell_type": "code",
      "source": [
        "df.to_csv('review.csv', encoding='utf-8-sig')"
      ],
      "metadata": {
        "id": "Q46X-kXa2-Ai"
      },
      "execution_count": null,
      "outputs": []
    }
  ]
}