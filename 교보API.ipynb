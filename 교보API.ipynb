{
  "nbformat": 4,
  "nbformat_minor": 0,
  "metadata": {
    "colab": {
      "provenance": [],
      "authorship_tag": "ABX9TyPVYp/buL9DlfVv20tzz0A3",
      "include_colab_link": true
    },
    "kernelspec": {
      "name": "python3",
      "display_name": "Python 3"
    },
    "language_info": {
      "name": "python"
    }
  },
  "cells": [
    {
      "cell_type": "markdown",
      "metadata": {
        "id": "view-in-github",
        "colab_type": "text"
      },
      "source": [
        "<a href=\"https://colab.research.google.com/github/hsnam95/class2022Fall/blob/main/%EA%B5%90%EB%B3%B4API.ipynb\" target=\"_parent\"><img src=\"https://colab.research.google.com/assets/colab-badge.svg\" alt=\"Open In Colab\"/></a>"
      ]
    },
    {
      "cell_type": "code",
      "source": [
        "import pandas as pd\n",
        "import json\n",
        "import requests\n",
        "def get_INFO(url,header):\n",
        "  return json.loads(requests.get(url,headers=header).text)"
      ],
      "metadata": {
        "id": "nhZj-Bi8Atg2"
      },
      "execution_count": null,
      "outputs": []
    },
    {
      "cell_type": "code",
      "execution_count": null,
      "metadata": {
        "id": "lUZeqy7WAqB_"
      },
      "outputs": [],
      "source": [
        "header = {\"User-Agent\": \"Mozilla/5.0 (Macintosh; Intel Mac OS X 10_15_7) AppleWebKit/605.1.15 (KHTML, like Gecko) Version/15.6 Safari/605.1.15\",}"
      ]
    },
    {
      "cell_type": "code",
      "source": [
        "url='https://product.kyobobook.co.kr/api/review/list?page=1&pageLimit=10000&reviewSort=001&revwPatrCode=000&saleCmdtid=S000000620181'\n",
        "INFO = get_INFO(url,header)\n",
        "df = pd.DataFrame(INFO['data']['reviewList'])\n",
        "\n",
        "n=0\n",
        "for text in df['revwCntt']:\n",
        "  df['revwCntt'][n] = text.replace(\"&nbsp\", \"\")\n",
        "  n += 1"
      ],
      "metadata": {
        "id": "j4Cj1FNgAyDU"
      },
      "execution_count": null,
      "outputs": []
    },
    {
      "cell_type": "code",
      "source": [
        "df.to_excel('review.xls')"
      ],
      "metadata": {
        "id": "yJmNONfitTtH"
      },
      "execution_count": null,
      "outputs": []
    }
  ]
}