{
  "nbformat": 4,
  "nbformat_minor": 0,
  "metadata": {
    "colab": {
      "provenance": [],
      "authorship_tag": "ABX9TyNkEbOI1dCzoaknzLsrf/fC",
      "include_colab_link": true
    },
    "kernelspec": {
      "name": "python3",
      "display_name": "Python 3"
    },
    "language_info": {
      "name": "python"
    }
  },
  "cells": [
    {
      "cell_type": "markdown",
      "metadata": {
        "id": "view-in-github",
        "colab_type": "text"
      },
      "source": [
        "<a href=\"https://colab.research.google.com/github/hsnam95/class2022Fall/blob/main/regression.ipynb\" target=\"_parent\"><img src=\"https://colab.research.google.com/assets/colab-badge.svg\" alt=\"Open In Colab\"/></a>"
      ]
    },
    {
      "cell_type": "markdown",
      "metadata": {
        "id": "EJYv5IDxwcnS"
      },
      "source": [
        "## Loading a dataset"
      ]
    },
    {
      "cell_type": "code",
      "execution_count": 3,
      "metadata": {
        "id": "UbhqZ2xOwcnX"
      },
      "outputs": [],
      "source": [
        "import pandas as pd"
      ]
    },
    {
      "cell_type": "markdown",
      "metadata": {
        "id": "01oxANUgwcnX"
      },
      "source": [
        "### computer hardware dataset"
      ]
    },
    {
      "cell_type": "code",
      "execution_count": null,
      "metadata": {
        "id": "G6LdpzV9wcnZ"
      },
      "outputs": [],
      "source": [
        "from sklearn.preprocessing import LabelEncoder\n",
        "le = LabelEncoder()\n",
        "computer_hardware = pd.read_csv('http://archive.ics.uci.edu/ml/machine-learning-databases/cpu-performance/machine.data', header=None, names=['vendor', 'model', 'MYCT', 'MMIN', 'MMAX', 'CACH', 'CHMIN', 'CHMAX', 'PRP', 'label'])\n",
        "computer_hardware['vendor'] = le.fit_transform(computer_hardware['vendor'])\n",
        "computer_hardware['model'] = le.fit_transform(computer_hardware['model'])\n",
        "computer_hardware.head()"
      ]
    },
    {
      "cell_type": "markdown",
      "metadata": {
        "id": "V-quACWgzeVa"
      },
      "source": [
        "### parkinsons dataset"
      ]
    },
    {
      "cell_type": "code",
      "execution_count": null,
      "metadata": {
        "id": "LpnoApn2wcna"
      },
      "outputs": [],
      "source": [
        "parkinsons = pd.read_csv('http://archive.ics.uci.edu/ml/machine-learning-databases/parkinsons/telemonitoring/parkinsons_updrs.data')\n",
        "parkinsons.rename(columns={'motor_UPDRS':'label'}, inplace=True)\n",
        "parkinsons.head()"
      ]
    },
    {
      "cell_type": "markdown",
      "metadata": {
        "id": "6KNf3AKIwcnb"
      },
      "source": [
        "## Comparing Models"
      ]
    },
    {
      "cell_type": "code",
      "execution_count": null,
      "metadata": {
        "id": "o1el3KYcwcnf"
      },
      "outputs": [],
      "source": [
        "from sklearn.linear_model import LinearRegression, Lasso, Ridge\n",
        "from sklearn.svm import LinearSVR\n",
        "from sklearn.tree import DecisionTreeRegressor\n",
        "\n",
        "models = [\n",
        "    ('LR', LinearRegression()),\n",
        "    ('L', Lasso()),\n",
        "    ('R', Ridge()),\n",
        "    ('SVR', LinearSVR()),\n",
        "    ('DT', DecisionTreeRegressor()),\n",
        "]"
      ]
    },
    {
      "cell_type": "code",
      "execution_count": null,
      "metadata": {
        "id": "CDKoYk0-wcnf"
      },
      "outputs": [],
      "source": [
        "from sklearn.model_selection import train_test_split\n",
        "import numpy as np\n",
        "\n",
        "for dataset_name, dataset in [('computer_hardware', computer_hardware), ('parkinsons', parkinsons)]:\n",
        "    X = np.array(dataset.drop(['label'], axis=1))\n",
        "    y = np.array(dataset['label'])\n",
        "    X_train, X_test, y_train, y_test = train_test_split(X, y, test_size=0.2, random_state=42)\n",
        "    for name, model in models:\n",
        "        clf = model\n",
        "        clf.fit(X_train, y_train)\n",
        "        accuracy = clf.score(X_test, y_test)\n",
        "        print(dataset_name, name, accuracy)"
      ]
    }
  ]
}