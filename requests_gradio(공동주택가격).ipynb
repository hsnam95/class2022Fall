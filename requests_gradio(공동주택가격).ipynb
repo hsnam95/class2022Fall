{
  "nbformat": 4,
  "nbformat_minor": 0,
  "metadata": {
    "colab": {
      "name": "requests_gradio.ipynb",
      "provenance": [],
      "machine_shape": "hm",
      "include_colab_link": true
    },
    "kernelspec": {
      "name": "python3",
      "display_name": "Python 3"
    },
    "language_info": {
      "name": "python"
    }
  },
  "cells": [
    {
      "cell_type": "markdown",
      "metadata": {
        "id": "view-in-github",
        "colab_type": "text"
      },
      "source": [
        "<a href=\"https://colab.research.google.com/github/hsnam95/class2022Fall/blob/main/requests_gradio(%EA%B3%B5%EB%8F%99%EC%A3%BC%ED%83%9D%EA%B0%80%EA%B2%A9).ipynb\" target=\"_parent\"><img src=\"https://colab.research.google.com/assets/colab-badge.svg\" alt=\"Open In Colab\"/></a>"
      ]
    },
    {
      "cell_type": "markdown",
      "source": [
        "## import libraries"
      ],
      "metadata": {
        "id": "n4d_TfR3M4_7"
      }
    },
    {
      "cell_type": "code",
      "source": [
        "!pip install gradio\n",
        "import gradio as gr\n",
        "import requests\n",
        "import pandas as pd\n",
        "\n",
        "!pip install xmltodict\n",
        "import json\n",
        "import xmltodict"
      ],
      "metadata": {
        "id": "8eZHGJhmqd9a"
      },
      "execution_count": null,
      "outputs": []
    },
    {
      "cell_type": "markdown",
      "source": [
        "## test API"
      ],
      "metadata": {
        "id": "LDOeErLXgJUu"
      }
    },
    {
      "cell_type": "code",
      "source": [
        "input1 = '11290' # 법정동코드 (e.g. 성북구)\n",
        "input2 = '202210' # 조회월\n",
        "\n",
        "URL = ('http://openapi.molit.go.kr:8081/OpenAPI_ToolInstallPackage/service/rest/RTMSOBJSvc/getRTMSDataSvcAptTrade?LAWD_CD='+input1+'&DEAL_YMD='+input2+'&serviceKey=miH%2BZXg85lQy4%2FkmhffvygXDIFiTwisriSLxtyECSzw6hxTVK7yI8QKIOc7mP7LEqCnhBGuj6iW1gZW65dum7A%3D%3D')\n",
        "response = requests.get(URL)"
      ],
      "metadata": {
        "id": "lHHEwqpyJF7r"
      },
      "execution_count": 2,
      "outputs": []
    },
    {
      "cell_type": "code",
      "source": [
        "data_dict = xmltodict.parse(response.content)\n",
        "json_txt = json.dumps(data_dict)\n",
        "r = json.loads(json_txt)\n",
        "r"
      ],
      "metadata": {
        "id": "tV6YoUcsdN8c"
      },
      "execution_count": null,
      "outputs": []
    },
    {
      "cell_type": "markdown",
      "source": [
        "http://jsonviewer.stack.hu/ (copy json here to view json)"
      ],
      "metadata": {
        "id": "lmry1S91GWEG"
      }
    },
    {
      "cell_type": "code",
      "source": [
        "item = r['response']['body']['items']['item']"
      ],
      "metadata": {
        "id": "AXxaFHiM-vUU"
      },
      "execution_count": 4,
      "outputs": []
    },
    {
      "cell_type": "code",
      "source": [
        "df = pd.DataFrame(item)\n",
        "df"
      ],
      "metadata": {
        "id": "8ll_27m1x35t"
      },
      "execution_count": null,
      "outputs": []
    },
    {
      "cell_type": "markdown",
      "source": [
        "## make a function"
      ],
      "metadata": {
        "id": "7Ij1aHSygY-A"
      }
    },
    {
      "cell_type": "code",
      "source": [
        "def test(input1, input2):\n",
        "  URL = ('http://openapi.molit.go.kr:8081/OpenAPI_ToolInstallPackage/service/rest/RTMSOBJSvc/getRTMSDataSvcAptTrade?LAWD_CD='+input1+'&DEAL_YMD='+input2+'&serviceKey=miH%2BZXg85lQy4%2FkmhffvygXDIFiTwisriSLxtyECSzw6hxTVK7yI8QKIOc7mP7LEqCnhBGuj6iW1gZW65dum7A%3D%3D')  \n",
        "  response = requests.get(URL)\n",
        "  data_dict = xmltodict.parse(response.content)\n",
        "  json_txt = json.dumps(data_dict)\n",
        "  r = json.loads(json_txt)\n",
        "  item = r['response']['body']['items']['item']\n",
        "\n",
        "  df = pd.DataFrame(item)\n",
        "  return df"
      ],
      "metadata": {
        "id": "Wf_JH79cDKc3"
      },
      "execution_count": 14,
      "outputs": []
    },
    {
      "cell_type": "markdown",
      "source": [
        "## Build a demo"
      ],
      "metadata": {
        "id": "Ca8G_kDVgp3x"
      }
    },
    {
      "cell_type": "code",
      "source": [
        "demo = gr.Interface(fn=test, inputs=[\"text\", \"text\"], outputs=\"dataframe\")\n",
        "demo.launch(share=True)"
      ],
      "metadata": {
        "id": "nopFEK52GSuz",
        "colab": {
          "base_uri": "https://localhost:8080/",
          "height": 646
        },
        "outputId": "30e1ff2b-3c64-4f58-f3b7-9d777a163ff1"
      },
      "execution_count": 15,
      "outputs": [
        {
          "output_type": "stream",
          "name": "stdout",
          "text": [
            "Colab notebook detected. To show errors in colab notebook, set `debug=True` in `launch()`\n",
            "Running on public URL: https://76d8e2e8cd6f3a7b.gradio.app\n",
            "\n",
            "This share link expires in 72 hours. For free permanent hosting and GPU upgrades (NEW!), check out Spaces: https://huggingface.co/spaces\n"
          ]
        },
        {
          "output_type": "display_data",
          "data": {
            "text/plain": [
              "<IPython.core.display.HTML object>"
            ],
            "text/html": [
              "<div><iframe src=\"https://76d8e2e8cd6f3a7b.gradio.app\" width=\"100%\" height=\"500\" allow=\"autoplay; camera; microphone; clipboard-read; clipboard-write;\" frameborder=\"0\" allowfullscreen></iframe></div>"
            ]
          },
          "metadata": {}
        },
        {
          "output_type": "execute_result",
          "data": {
            "text/plain": [
              "(<gradio.routes.App at 0x7f6523d84ad0>,\n",
              " 'http://127.0.0.1:7863/',\n",
              " 'https://76d8e2e8cd6f3a7b.gradio.app')"
            ]
          },
          "metadata": {},
          "execution_count": 15
        }
      ]
    }
  ]
}