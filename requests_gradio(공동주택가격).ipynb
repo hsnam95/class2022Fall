{
  "nbformat": 4,
  "nbformat_minor": 0,
  "metadata": {
    "colab": {
      "name": "requests_gradio.ipynb",
      "provenance": [],
      "machine_shape": "hm",
      "include_colab_link": true
    },
    "kernelspec": {
      "name": "python3",
      "display_name": "Python 3"
    },
    "language_info": {
      "name": "python"
    }
  },
  "cells": [
    {
      "cell_type": "markdown",
      "metadata": {
        "id": "view-in-github",
        "colab_type": "text"
      },
      "source": [
        "<a href=\"https://colab.research.google.com/github/hsnam95/class2022Fall/blob/main/requests_gradio(%EA%B3%B5%EB%8F%99%EC%A3%BC%ED%83%9D%EA%B0%80%EA%B2%A9).ipynb\" target=\"_parent\"><img src=\"https://colab.research.google.com/assets/colab-badge.svg\" alt=\"Open In Colab\"/></a>"
      ]
    },
    {
      "cell_type": "markdown",
      "source": [
        "## create code data "
      ],
      "metadata": {
        "id": "JrDiOigTMc8L"
      }
    },
    {
      "cell_type": "code",
      "source": [
        "n = ['서울특별시', '부산광역시', '대구광역시', '인천광역시', '광주광역시', '대전광역시', '울산광역시', '세종특별자치시', '경기도', '강원도', '충청북도', '충청남도', '전라북도', '전라남도', '경상북도', '경상남도', '제주특별자치도']\n",
        "c = ['11', '26', '27', '28', '29', '30', '31', '36', '41', '42', '43', '44', '45', '46', '47', '48', '50']\n",
        "\n",
        "n11 = ['전체', '종로구', '중구', '용산구', '성동구', '광진구', '동대문구', '중랑구', '성북구', '강북구', '도봉구', '노원구', '은평구', '서대문구', '마포구', '양천구', '강서구', '구로구', '금천구', '영등포구', '동작구', '관악구', '서초구', '강남구', '송파구', '강동구']\n",
        "c11 = ['000', '110', '140', '170', '200', '215', '230', '260', '290', '305', '320', '350', '380', '410', '440', '470', '500', '530', '545', '560', '590', '620', '650', '680', '710', '740']\n",
        "\n",
        "n26 = ['전체', '중구', '서구', '동구', '영도구', '부산진구', '동래구', '남구', '북구', '해운대구', '사하구', '금정구', '강서구', '연제구', '수영구', '사상구', '기장군']\n",
        "c26 = ['000', '110', '140', '170', '200', '230', '260', '290', '320', '350', '380', '410', '440', '470', '500', '530', '710']\n",
        "\n",
        "n27 = ['전체', '중구', '동구', '서구', '남구', '북구', '수성구', '달서구', '달성군']\n",
        "c27 = ['000', '110', '140', '170', '200', '230', '260', '290', '710']\n",
        "\n",
        "n28 = ['전체', '중구', '동구', '남구', '미추홀구', '연수구', '남동구', '북구', '부평구', '계양구', '서구', '강화군', '옹진군']\n",
        "c28 = ['000', '110', '140', '170', '177', '185', '200', '230', '237', '245', '260', '710', '720']\n",
        "\n",
        "n29 = ['전체', '동구', '서구', '남구', '북구', '광산구']\n",
        "c29 = ['000', '110', '140', '155', '170', '200']\n",
        "\n",
        "n30 = ['전체', '동구', '중구', '서구', '유성구', '대덕구']\n",
        "c30 = ['000', '110', '140', '170', '200', '230']\n",
        "\n",
        "n31 = ['전체', '중구', '남구', '동구', '북구', '울주군']\n",
        "c31 = ['000', '110', '140', '170', '200', '710']\n",
        "\n",
        "n36 = ['전체']\n",
        "c36 = ['110']\n",
        "\n",
        "n41 = ['전체', '수원시 장안구', '수원시 권선구', '수원시 팔달구', '수원시 영통구', '성남시 수정구', '성남시 중원구', '성남시 분당구', '의정부시', '안양시 만안구', '안양시 동안구', '부천시', '광명시', '평택시', '동두천시', '안산시 상록구', '안산시 단원구', '고양시 덕양구', '고양시 일산동구', '고양시 일산서구', '과천시', '구리시', '남양주시', '오산시', '시흥시', '군포시', '의왕시', '하남시', '용인시 처인구', '용인시 기흥구', '용인시 수지구', '파주시', '이천시', '안성시', '김포시', '화성시', '광주시', '양주시', '포천시', '여주시', '연천군', '가평군', '양평군']\n",
        "c41 = ['000', '111', '113', '115', '117', '131', '133', '135', '150', '171', '173', '190', '210', '220', '250', '271', '273', '281', '285', '287', '290', '310', '360', '370', '390', '410', '430', '450', '461', '463', '465', '480', '500', '550', '570', '590', '610', '630', '650', '670', '800', '820', '830']\n",
        "\n",
        "n42 = ['전체', '춘천시', '원주시', '강릉시', '동해시', '태백시', '속초시', '삼척시', '홍천군', '횡성군', '영월군', '평창군', '정선군', '철원군', '화천군', '양구군', '인제군', '고성군', '양양군']\n",
        "c42 = ['000', '110', '130', '150', '170', '190', '210', '230', '720', '730', '750', '760', '770', '780', '790', '800', '810', '820', '830']\n",
        "\n",
        "n43 = ['전체', '청주시 상당구', '청주시 서원구', '청주시 흥덕구', '청주시 청원구', '충주시', '제천시', '보은군', '옥천군', '영동군', '증평군', '진천군', '괴산군', '음성군', '단양군']\n",
        "c43 = ['000', '111', '112', '113', '114', '130', '150', '720', '730', '740', '745', '750', '760', '770', '800']\n",
        "\n",
        "n44 = ['전체', '천안시 동남구', '천안시 서북구', '공주시', '보령시', '아산시', '서산시', '논산시', '계룡시', '당진시', '금산군', '부여군', '서천군', '청양군', '홍성군', '예산군', '태안군']\n",
        "c44 = ['000', '131', '133', '150', '180', '200', '210', '230', '250', '270', '710', '760', '770', '790', '800', '810', '825']\n",
        "\n",
        "n45 = ['전체', '전주시 완산구', '전주시 덕진구', '군산시', '익산시', '이리시', '정주시', '정읍시', '남원시', '김제시', '완주군', '진안군', '무주군', '장수군', '임실군', '순창군', '고창군', '부안군']\n",
        "c45 = ['000', '111', '113', '130', '140', '150', '170', '180', '190', '210', '710', '720', '730', '740', '750', '770', '790', '800']\n",
        "\n",
        "n46 = ['전체', '목포시', '여수시', '순천시', '나주시', '광양시', '담양군', '곡성군', '구례군', '고흥군', '보성군', '화순군', '장흥군', '강진군', '해남군', '영암군', '무안군', '함평군', '영광군', '장성군', '완도군', '진도군', '신안군']\n",
        "c46 = ['000', '110', '130', '150', '170', '230', '710', '720', '730', '770', '780', '790', '800', '810', '820', '830', '840', '860', '870', '880', '890', '900', '910']\n",
        "\n",
        "n47 = ['전체', '포항시 남구', '포항시 북구', '경주시', '김천시', '안동시', '구미시', '영주시', '영천시', '상주시', '점촌시', '문경시', '경산시', '군위군', '의성군', '청송군', '영양군', '영덕군', '청도군', '고령군', '성주군', '칠곡군', '예천군', '봉화군', '울진군', '울릉군']\n",
        "c47 = ['000', '111', '113', '130', '150', '170', '190', '210', '230', '250', '270', '280', '290', '720', '730', '750', '760', '770', '820', '830', '840', '850', '900', '920', '930', '940']\n",
        "\n",
        "n48 = ['전체', '창원시 의창구', '창원시 성산구', '창원시 마산합포구', '창원시 마산회원구', '창원시 진해구', '진주시', '통영시', '사천시', '김해시', '밀양시', '거제시', '양산시', '의령군', '함안군', '창녕군', '고성군', '남해군', '하동군', '산청군', '함양군', '거창군', '합천군']\n",
        "c48 = ['000', '121', '123', '125', '127', '129', '170', '220', '240', '250', '270', '310', '330', '720', '730', '740', '820', '840', '850', '860', '870', '880', '890']\n",
        "\n",
        "n50 = ['전체', '제주시', '서귀포시']\n",
        "c50 = ['000', '110', '130']\n",
        "c = ['11', '26', '27', '28', '29', '30', '31', '36', '41', '42', '43', '44', '45', '46', '47', '48', '50']\n",
        "\n",
        "ns = [n11, n26, n27, n28, n29, n30, n31, n36, n41, n42, n43, n44, n45, n46, n47, n48, n50]\n",
        "cs = [c11, c26, c27, c28, c29, c30, c31, c36, c41, c42, c43, c44, c45, c46, c47, c48, c50]\n",
        "\n",
        "nList = {x: y for x, y in zip(n, ns)}\n",
        "cList = {w: z for w, z in zip(c, cs)}\n",
        "\n",
        "data = [nList, cList]"
      ],
      "metadata": {
        "id": "oxqllD9TMb23"
      },
      "execution_count": null,
      "outputs": []
    },
    {
      "cell_type": "markdown",
      "source": [
        "## import libraries"
      ],
      "metadata": {
        "id": "n4d_TfR3M4_7"
      }
    },
    {
      "cell_type": "code",
      "source": [
        "!pip install gradio\n",
        "import gradio as gr\n",
        "import requests\n",
        "import pandas as pd\n",
        "\n",
        "!pip install xmltodict\n",
        "import json\n",
        "import xmltodict"
      ],
      "metadata": {
        "id": "8eZHGJhmqd9a",
        "outputId": "ec2e4686-0200-4265-e3d1-a03d08c7a092",
        "colab": {
          "base_uri": "https://localhost:8080/"
        }
      },
      "execution_count": null,
      "outputs": [
        {
          "output_type": "stream",
          "name": "stdout",
          "text": [
            "Looking in indexes: https://pypi.org/simple, https://us-python.pkg.dev/colab-wheels/public/simple/\n",
            "Collecting gradio\n",
            "  Downloading gradio-3.8-py3-none-any.whl (11.6 MB)\n",
            "\u001b[K     |████████████████████████████████| 11.6 MB 14.0 MB/s \n",
            "\u001b[?25hCollecting pycryptodome\n",
            "  Downloading pycryptodome-3.15.0-cp35-abi3-manylinux2010_x86_64.whl (2.3 MB)\n",
            "\u001b[K     |████████████████████████████████| 2.3 MB 64.4 MB/s \n",
            "\u001b[?25hRequirement already satisfied: numpy in /usr/local/lib/python3.7/dist-packages (from gradio) (1.21.6)\n",
            "Requirement already satisfied: aiohttp in /usr/local/lib/python3.7/dist-packages (from gradio) (3.8.3)\n",
            "Collecting uvicorn\n",
            "  Downloading uvicorn-0.19.0-py3-none-any.whl (56 kB)\n",
            "\u001b[K     |████████████████████████████████| 56 kB 4.5 MB/s \n",
            "\u001b[?25hCollecting pydub\n",
            "  Downloading pydub-0.25.1-py2.py3-none-any.whl (32 kB)\n",
            "Collecting ffmpy\n",
            "  Downloading ffmpy-0.3.0.tar.gz (4.8 kB)\n",
            "Requirement already satisfied: pyyaml in /usr/local/lib/python3.7/dist-packages (from gradio) (6.0)\n",
            "Collecting paramiko\n",
            "  Downloading paramiko-2.11.0-py2.py3-none-any.whl (212 kB)\n",
            "\u001b[K     |████████████████████████████████| 212 kB 65.7 MB/s \n",
            "\u001b[?25hCollecting httpx\n",
            "  Downloading httpx-0.23.0-py3-none-any.whl (84 kB)\n",
            "\u001b[K     |████████████████████████████████| 84 kB 3.2 MB/s \n",
            "\u001b[?25hRequirement already satisfied: pillow in /usr/local/lib/python3.7/dist-packages (from gradio) (7.1.2)\n",
            "Requirement already satisfied: fsspec in /usr/local/lib/python3.7/dist-packages (from gradio) (2022.10.0)\n",
            "Collecting websockets\n",
            "  Downloading websockets-10.4-cp37-cp37m-manylinux_2_5_x86_64.manylinux1_x86_64.manylinux_2_17_x86_64.manylinux2014_x86_64.whl (106 kB)\n",
            "\u001b[K     |████████████████████████████████| 106 kB 52.5 MB/s \n",
            "\u001b[?25hCollecting fastapi\n",
            "  Downloading fastapi-0.85.1-py3-none-any.whl (55 kB)\n",
            "\u001b[K     |████████████████████████████████| 55 kB 3.3 MB/s \n",
            "\u001b[?25hRequirement already satisfied: jinja2 in /usr/local/lib/python3.7/dist-packages (from gradio) (2.11.3)\n",
            "Collecting orjson\n",
            "  Downloading orjson-3.8.1-cp37-cp37m-manylinux_2_17_x86_64.manylinux2014_x86_64.whl (272 kB)\n",
            "\u001b[K     |████████████████████████████████| 272 kB 31.4 MB/s \n",
            "\u001b[?25hCollecting h11<0.13,>=0.11\n",
            "  Downloading h11-0.12.0-py3-none-any.whl (54 kB)\n",
            "\u001b[K     |████████████████████████████████| 54 kB 3.1 MB/s \n",
            "\u001b[?25hRequirement already satisfied: pandas in /usr/local/lib/python3.7/dist-packages (from gradio) (1.3.5)\n",
            "Requirement already satisfied: requests in /usr/local/lib/python3.7/dist-packages (from gradio) (2.23.0)\n",
            "Collecting markdown-it-py[linkify,plugins]\n",
            "  Downloading markdown_it_py-2.1.0-py3-none-any.whl (84 kB)\n",
            "\u001b[K     |████████████████████████████████| 84 kB 2.1 MB/s \n",
            "\u001b[?25hRequirement already satisfied: pydantic in /usr/local/lib/python3.7/dist-packages (from gradio) (1.10.2)\n",
            "Collecting python-multipart\n",
            "  Downloading python-multipart-0.0.5.tar.gz (32 kB)\n",
            "Requirement already satisfied: matplotlib in /usr/local/lib/python3.7/dist-packages (from gradio) (3.2.2)\n",
            "Requirement already satisfied: multidict<7.0,>=4.5 in /usr/local/lib/python3.7/dist-packages (from aiohttp->gradio) (6.0.2)\n",
            "Requirement already satisfied: async-timeout<5.0,>=4.0.0a3 in /usr/local/lib/python3.7/dist-packages (from aiohttp->gradio) (4.0.2)\n",
            "Requirement already satisfied: asynctest==0.13.0 in /usr/local/lib/python3.7/dist-packages (from aiohttp->gradio) (0.13.0)\n",
            "Requirement already satisfied: yarl<2.0,>=1.0 in /usr/local/lib/python3.7/dist-packages (from aiohttp->gradio) (1.8.1)\n",
            "Requirement already satisfied: aiosignal>=1.1.2 in /usr/local/lib/python3.7/dist-packages (from aiohttp->gradio) (1.2.0)\n",
            "Requirement already satisfied: charset-normalizer<3.0,>=2.0 in /usr/local/lib/python3.7/dist-packages (from aiohttp->gradio) (2.1.1)\n",
            "Requirement already satisfied: typing-extensions>=3.7.4 in /usr/local/lib/python3.7/dist-packages (from aiohttp->gradio) (4.1.1)\n",
            "Requirement already satisfied: attrs>=17.3.0 in /usr/local/lib/python3.7/dist-packages (from aiohttp->gradio) (22.1.0)\n",
            "Requirement already satisfied: frozenlist>=1.1.1 in /usr/local/lib/python3.7/dist-packages (from aiohttp->gradio) (1.3.1)\n",
            "Requirement already satisfied: idna>=2.0 in /usr/local/lib/python3.7/dist-packages (from yarl<2.0,>=1.0->aiohttp->gradio) (2.10)\n",
            "Collecting starlette==0.20.4\n",
            "  Downloading starlette-0.20.4-py3-none-any.whl (63 kB)\n",
            "\u001b[K     |████████████████████████████████| 63 kB 1.8 MB/s \n",
            "\u001b[?25hCollecting anyio<5,>=3.4.0\n",
            "  Downloading anyio-3.6.2-py3-none-any.whl (80 kB)\n",
            "\u001b[K     |████████████████████████████████| 80 kB 9.5 MB/s \n",
            "\u001b[?25hCollecting sniffio>=1.1\n",
            "  Downloading sniffio-1.3.0-py3-none-any.whl (10 kB)\n",
            "Collecting rfc3986[idna2008]<2,>=1.3\n",
            "  Downloading rfc3986-1.5.0-py2.py3-none-any.whl (31 kB)\n",
            "Requirement already satisfied: certifi in /usr/local/lib/python3.7/dist-packages (from httpx->gradio) (2022.9.24)\n",
            "Collecting httpcore<0.16.0,>=0.15.0\n",
            "  Downloading httpcore-0.15.0-py3-none-any.whl (68 kB)\n",
            "\u001b[K     |████████████████████████████████| 68 kB 6.4 MB/s \n",
            "\u001b[?25hRequirement already satisfied: MarkupSafe>=0.23 in /usr/local/lib/python3.7/dist-packages (from jinja2->gradio) (2.0.1)\n",
            "Collecting mdurl~=0.1\n",
            "  Downloading mdurl-0.1.2-py3-none-any.whl (10.0 kB)\n",
            "Collecting mdit-py-plugins\n",
            "  Downloading mdit_py_plugins-0.3.1-py3-none-any.whl (46 kB)\n",
            "\u001b[K     |████████████████████████████████| 46 kB 3.1 MB/s \n",
            "\u001b[?25hCollecting linkify-it-py~=1.0\n",
            "  Downloading linkify_it_py-1.0.3-py3-none-any.whl (19 kB)\n",
            "Collecting uc-micro-py\n",
            "  Downloading uc_micro_py-1.0.1-py3-none-any.whl (6.2 kB)\n",
            "Requirement already satisfied: kiwisolver>=1.0.1 in /usr/local/lib/python3.7/dist-packages (from matplotlib->gradio) (1.4.4)\n",
            "Requirement already satisfied: cycler>=0.10 in /usr/local/lib/python3.7/dist-packages (from matplotlib->gradio) (0.11.0)\n",
            "Requirement already satisfied: pyparsing!=2.0.4,!=2.1.2,!=2.1.6,>=2.0.1 in /usr/local/lib/python3.7/dist-packages (from matplotlib->gradio) (3.0.9)\n",
            "Requirement already satisfied: python-dateutil>=2.1 in /usr/local/lib/python3.7/dist-packages (from matplotlib->gradio) (2.8.2)\n",
            "Requirement already satisfied: six>=1.5 in /usr/local/lib/python3.7/dist-packages (from python-dateutil>=2.1->matplotlib->gradio) (1.15.0)\n",
            "Requirement already satisfied: pytz>=2017.3 in /usr/local/lib/python3.7/dist-packages (from pandas->gradio) (2022.5)\n",
            "Collecting cryptography>=2.5\n",
            "  Downloading cryptography-38.0.1-cp36-abi3-manylinux_2_24_x86_64.whl (4.0 MB)\n",
            "\u001b[K     |████████████████████████████████| 4.0 MB 68.1 MB/s \n",
            "\u001b[?25hCollecting bcrypt>=3.1.3\n",
            "  Downloading bcrypt-4.0.1-cp36-abi3-manylinux_2_24_x86_64.whl (593 kB)\n",
            "\u001b[K     |████████████████████████████████| 593 kB 73.7 MB/s \n",
            "\u001b[?25hCollecting pynacl>=1.0.1\n",
            "  Downloading PyNaCl-1.5.0-cp36-abi3-manylinux_2_17_x86_64.manylinux2014_x86_64.manylinux_2_24_x86_64.whl (856 kB)\n",
            "\u001b[K     |████████████████████████████████| 856 kB 70.9 MB/s \n",
            "\u001b[?25hRequirement already satisfied: cffi>=1.12 in /usr/local/lib/python3.7/dist-packages (from cryptography>=2.5->paramiko->gradio) (1.15.1)\n",
            "Requirement already satisfied: pycparser in /usr/local/lib/python3.7/dist-packages (from cffi>=1.12->cryptography>=2.5->paramiko->gradio) (2.21)\n",
            "Requirement already satisfied: urllib3!=1.25.0,!=1.25.1,<1.26,>=1.21.1 in /usr/local/lib/python3.7/dist-packages (from requests->gradio) (1.24.3)\n",
            "Requirement already satisfied: chardet<4,>=3.0.2 in /usr/local/lib/python3.7/dist-packages (from requests->gradio) (3.0.4)\n",
            "Requirement already satisfied: click>=7.0 in /usr/local/lib/python3.7/dist-packages (from uvicorn->gradio) (7.1.2)\n",
            "Building wheels for collected packages: ffmpy, python-multipart\n",
            "  Building wheel for ffmpy (setup.py) ... \u001b[?25l\u001b[?25hdone\n",
            "  Created wheel for ffmpy: filename=ffmpy-0.3.0-py3-none-any.whl size=4712 sha256=d7526b54b4352be47df058131f759d0dbde0fc19bac81f5fb0fa2c88ab0315c2\n",
            "  Stored in directory: /root/.cache/pip/wheels/13/e4/6c/e8059816e86796a597c6e6b0d4c880630f51a1fcfa0befd5e6\n",
            "  Building wheel for python-multipart (setup.py) ... \u001b[?25l\u001b[?25hdone\n",
            "  Created wheel for python-multipart: filename=python_multipart-0.0.5-py3-none-any.whl size=31678 sha256=402667d2b2428cbf659f0abbcaefb8766c8cdb54169122d7918bdee9caa0fd45\n",
            "  Stored in directory: /root/.cache/pip/wheels/2c/41/7c/bfd1c180534ffdcc0972f78c5758f89881602175d48a8bcd2c\n",
            "Successfully built ffmpy python-multipart\n",
            "Installing collected packages: sniffio, mdurl, uc-micro-py, rfc3986, markdown-it-py, h11, anyio, starlette, pynacl, mdit-py-plugins, linkify-it-py, httpcore, cryptography, bcrypt, websockets, uvicorn, python-multipart, pydub, pycryptodome, paramiko, orjson, httpx, ffmpy, fastapi, gradio\n",
            "Successfully installed anyio-3.6.2 bcrypt-4.0.1 cryptography-38.0.1 fastapi-0.85.1 ffmpy-0.3.0 gradio-3.8 h11-0.12.0 httpcore-0.15.0 httpx-0.23.0 linkify-it-py-1.0.3 markdown-it-py-2.1.0 mdit-py-plugins-0.3.1 mdurl-0.1.2 orjson-3.8.1 paramiko-2.11.0 pycryptodome-3.15.0 pydub-0.25.1 pynacl-1.5.0 python-multipart-0.0.5 rfc3986-1.5.0 sniffio-1.3.0 starlette-0.20.4 uc-micro-py-1.0.1 uvicorn-0.19.0 websockets-10.4\n",
            "Looking in indexes: https://pypi.org/simple, https://us-python.pkg.dev/colab-wheels/public/simple/\n",
            "Collecting xmltodict\n",
            "  Downloading xmltodict-0.13.0-py2.py3-none-any.whl (10.0 kB)\n",
            "Installing collected packages: xmltodict\n",
            "Successfully installed xmltodict-0.13.0\n"
          ]
        }
      ]
    },
    {
      "cell_type": "markdown",
      "source": [
        "## test a demo"
      ],
      "metadata": {
        "id": "LDOeErLXgJUu"
      }
    },
    {
      "cell_type": "code",
      "source": [
        "input1 = '26230'\n",
        "input2 = '202209'\n",
        "\n",
        "URL = ('http://openapi.molit.go.kr:8081/OpenAPI_ToolInstallPackage/service/rest/RTMSOBJSvc/getRTMSDataSvcAptTrade?LAWD_CD='+input1+'&DEAL_YMD='+input2+'&serviceKey=miH%2BZXg85lQy4%2FkmhffvygXDIFiTwisriSLxtyECSzw6hxTVK7yI8QKIOc7mP7LEqCnhBGuj6iW1gZW65dum7A%3D%3D')\n",
        "try:\n",
        "  response = requests.get(URL)\n",
        "except:\n",
        "  print('not exist')\n",
        "response"
      ],
      "metadata": {
        "id": "lHHEwqpyJF7r"
      },
      "execution_count": null,
      "outputs": []
    },
    {
      "cell_type": "code",
      "source": [
        "data_dict = xmltodict.parse(response.content)\n",
        "json_txt = json.dumps(data_dict)\n",
        "r = json.loads(json_txt)\n",
        "r"
      ],
      "metadata": {
        "id": "tV6YoUcsdN8c"
      },
      "execution_count": null,
      "outputs": []
    },
    {
      "cell_type": "code",
      "source": [
        "item = r['response']['body']['items']['item']\n",
        "if type(item) != list:\n",
        "  item = [item]\n",
        "type(item)"
      ],
      "metadata": {
        "id": "AXxaFHiM-vUU"
      },
      "execution_count": null,
      "outputs": []
    },
    {
      "cell_type": "code",
      "source": [
        "df = pd.DataFrame(item)\n",
        "df"
      ],
      "metadata": {
        "id": "8ll_27m1x35t"
      },
      "execution_count": null,
      "outputs": []
    },
    {
      "cell_type": "code",
      "source": [
        "convert_dict = {'거래금액': str, '거래유형': str, '건축년도': int, '년': int, '법정동': str, '아파트': str, '월': int, '일': int, '전용면적': float, '중개사소재지': str, '지번': str, '지역코드': int, '층': int, '해제사유발생일': str, '해제여부': str}\n",
        "df = df.astype(convert_dict)\n",
        "print(df.dtypes)"
      ],
      "metadata": {
        "id": "444D_h0Caf7S"
      },
      "execution_count": null,
      "outputs": []
    },
    {
      "cell_type": "markdown",
      "source": [
        "## Build a demo"
      ],
      "metadata": {
        "id": "7Ij1aHSygY-A"
      }
    },
    {
      "cell_type": "code",
      "source": [
        "def range2list(beg, end):\n",
        "  out = [str(beg)]\n",
        "  beg = int(beg)\n",
        "  end = int(end)\n",
        "  while beg < end:\n",
        "    if int(str(beg)[-2:]) < 12:\n",
        "      beg = beg + 1\n",
        "      out.append(str(beg))\n",
        "    else:\n",
        "      beg = beg + 100 -11\n",
        "      out.append(str(beg))\n",
        "  return out\n",
        "\n",
        "def test(dd1, dd2, input2):\n",
        "  if len(input2) <= 6:\n",
        "    input2s = [input2]\n",
        "  else:\n",
        "    if input2[6] == '-':\n",
        "      input2s = input2.split('-')\n",
        "      print(input2s)\n",
        "      input2s = range2list(input2s[0], input2s[1])\n",
        "    else:\n",
        "      input2s = input2.split()\n",
        "\n",
        "  n = list(data[0].keys())\n",
        "  n_id = n.index(dd1)\n",
        "  nc = list(data[1].keys())[n_id]\n",
        "\n",
        "  s = list(data[0][n[n_id]])\n",
        "  s_id = s.index(dd2)\n",
        "  sc = data[1][nc][s_id]\n",
        "  input1s = [nc+sc]\n",
        "\n",
        "  if sc == '000':\n",
        "    input1s = [nc+scs for scs in list(data[1][nc][1:])]\n",
        "\n",
        "  print(input1s)\n",
        "  print(input2s)\n",
        "\n",
        "  df = []\n",
        "  n = int(0)\n",
        "  for x in input1s:\n",
        "    for y in input2s:\n",
        "\n",
        "      URL = ('http://openapi.molit.go.kr:8081/OpenAPI_ToolInstallPackage/service/rest/RTMSOBJSvc/getRTMSDataSvcAptTrade?LAWD_CD=' + x + '&DEAL_YMD=' + y + '&serviceKey=miH%2BZXg85lQy4%2FkmhffvygXDIFiTwisriSLxtyECSzw6hxTVK7yI8QKIOc7mP7LEqCnhBGuj6iW1gZW65dum7A%3D%3D')\n",
        "\n",
        "      try:\n",
        "        response = requests.get(URL)\n",
        "        data_dict = xmltodict.parse(response.content)\n",
        "        json_txt = json.dumps(data_dict)\n",
        "        r = json.loads(json_txt)\n",
        "        item = r['response']['body']['items']['item']\n",
        "        if type(item) != list:\n",
        "          item = [item]\n",
        "\n",
        "        if len(df)==0:\n",
        "          df = pd.DataFrame(item)\n",
        "        else:\n",
        "          df = pd.concat([df, pd.DataFrame(item)], axis=0)\n",
        "        n += 1\n",
        "        print (x, y, n, '/', len(input1s)*len(input2s))\n",
        "      except:\n",
        "        print (x, y, n, '//', len(input1s)*len(input2s))\n",
        "        pass\n",
        "\n",
        "  df.loc[:,'거래금액'] = df.loc[:,'거래금액'].replace(',', '', regex=True)\n",
        "  convert_dict = {'거래금액': int, '거래유형': str, '건축년도': int, '년': int, '법정동': str, '아파트': str, '월': int, '일': int, '전용면적': float, '중개사소재지': str, '지번': str, '지역코드': int, '층': int, '해제사유발생일': str, '해제여부': str}\n",
        "  df = df.fillna(0).astype(convert_dict)\n",
        "\n",
        "  from google.colab import files\n",
        "  df.to_csv('out.csv', index=False) \n",
        "\n",
        "  return df"
      ],
      "metadata": {
        "id": "Us2EzLwiH9uV"
      },
      "execution_count": null,
      "outputs": []
    },
    {
      "cell_type": "markdown",
      "source": [
        "## Run a demo"
      ],
      "metadata": {
        "id": "Ca8G_kDVgp3x"
      }
    },
    {
      "cell_type": "code",
      "source": [
        "with gr.Blocks() as demo:\n",
        "  dd1 = gr.Dropdown(list(data[0].keys())) \n",
        "  dd2 = gr.Dropdown(choices = [], interactive = True)\n",
        "  tb = gr.Text()\n",
        "  df = gr.DataFrame()\n",
        "  b1 = gr.Button(\"Run\")\n",
        "\n",
        "  def ddchange(inp):\n",
        "    return gr.Dropdown.update(choices=data[0][inp], value = 0)\n",
        "  dd1.change(ddchange, dd1, dd2)\n",
        "\n",
        "  b1.click(test, inputs=[dd1, dd2, tb], outputs=[])\n",
        "  # b1.click(test, inputs=[dd1, dd2, tb], outputs=df)\n",
        "\n",
        "if __name__ == \"__main__\":\n",
        "  demo.launch(debug=True)"
      ],
      "metadata": {
        "id": "nopFEK52GSuz",
        "colab": {
          "base_uri": "https://localhost:8080/",
          "height": 952
        },
        "outputId": "a05ae0d1-6a35-41b7-ab8d-df3252ffb34a"
      },
      "execution_count": null,
      "outputs": [
        {
          "output_type": "stream",
          "name": "stdout",
          "text": [
            "Colab notebook detected. This cell will run indefinitely so that you can see errors and logs. To turn off, set debug=False in launch().\n",
            "Running on public URL: https://7f9ff3fe791c3f3b.gradio.app\n",
            "\n",
            "This share link expires in 72 hours. For free permanent hosting and GPU upgrades (NEW!), check out Spaces: https://huggingface.co/spaces\n"
          ]
        },
        {
          "output_type": "display_data",
          "data": {
            "text/plain": [
              "<IPython.core.display.HTML object>"
            ],
            "text/html": [
              "<div><iframe src=\"https://7f9ff3fe791c3f3b.gradio.app\" width=\"900\" height=\"500\" allow=\"autoplay; camera; microphone; clipboard-read; clipboard-write;\" frameborder=\"0\" allowfullscreen></iframe></div>"
            ]
          },
          "metadata": {}
        },
        {
          "output_type": "stream",
          "name": "stdout",
          "text": [
            "['200601', '202209']\n",
            "['26110', '26140', '26170', '26200', '26230', '26260', '26290', '26320', '26350', '26380', '26410', '26440', '26470', '26500', '26530', '26710']\n",
            "['200601', '200602', '200603', '200604', '200605', '200606', '200607', '200608', '200609', '200610', '200611', '200612', '200701', '200702', '200703', '200704', '200705', '200706', '200707', '200708', '200709', '200710', '200711', '200712', '200801', '200802', '200803', '200804', '200805', '200806', '200807', '200808', '200809', '200810', '200811', '200812', '200901', '200902', '200903', '200904', '200905', '200906', '200907', '200908', '200909', '200910', '200911', '200912', '201001', '201002', '201003', '201004', '201005', '201006', '201007', '201008', '201009', '201010', '201011', '201012', '201101', '201102', '201103', '201104', '201105', '201106', '201107', '201108', '201109', '201110', '201111', '201112', '201201', '201202', '201203', '201204', '201205', '201206', '201207', '201208', '201209', '201210', '201211', '201212', '201301', '201302', '201303', '201304', '201305', '201306', '201307', '201308', '201309', '201310', '201311', '201312', '201401', '201402', '201403', '201404', '201405', '201406', '201407', '201408', '201409', '201410', '201411', '201412', '201501', '201502', '201503', '201504', '201505', '201506', '201507', '201508', '201509', '201510', '201511', '201512', '201601', '201602', '201603', '201604', '201605', '201606', '201607', '201608', '201609', '201610', '201611', '201612', '201701', '201702', '201703', '201704', '201705', '201706', '201707', '201708', '201709', '201710', '201711', '201712', '201801', '201802', '201803', '201804', '201805', '201806', '201807', '201808', '201809', '201810', '201811', '201812', '201901', '201902', '201903', '201904', '201905', '201906', '201907', '201908', '201909', '201910', '201911', '201912', '202001', '202002', '202003', '202004', '202005', '202006', '202007', '202008', '202009', '202010', '202011', '202012', '202101', '202102', '202103', '202104', '202105', '202106', '202107', '202108', '202109', '202110', '202111', '202112', '202201', '202202', '202203', '202204', '202205', '202206', '202207', '202208', '202209']\n",
            "26110 200601 0 // 3216\n",
            "26110 200602 1 / 3216\n",
            "26110 200603 2 / 3216\n",
            "26110 200604 3 / 3216\n",
            "26110 200605 4 / 3216\n",
            "26110 200606 5 / 3216\n",
            "26110 200607 6 / 3216\n",
            "26110 200608 7 / 3216\n",
            "26110 200609 8 / 3216\n",
            "26110 200610 9 / 3216\n",
            "26110 200611 10 / 3216\n",
            "26110 200612 11 / 3216\n",
            "26110 200701 12 / 3216\n",
            "26110 200702 13 / 3216\n",
            "26110 200703 14 / 3216\n",
            "26110 200704 15 / 3216\n"
          ]
        }
      ]
    }
  ]
}