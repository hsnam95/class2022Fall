{
  "nbformat": 4,
  "nbformat_minor": 0,
  "metadata": {
    "colab": {
      "provenance": [],
      "authorship_tag": "ABX9TyO3k41zi4htcpCGg5M4ueUk",
      "include_colab_link": true
    },
    "kernelspec": {
      "name": "python3",
      "display_name": "Python 3"
    },
    "language_info": {
      "name": "python"
    }
  },
  "cells": [
    {
      "cell_type": "markdown",
      "metadata": {
        "id": "view-in-github",
        "colab_type": "text"
      },
      "source": [
        "<a href=\"https://colab.research.google.com/github/hsnam95/class2022Fall/blob/main/YES24API.ipynb\" target=\"_parent\"><img src=\"https://colab.research.google.com/assets/colab-badge.svg\" alt=\"Open In Colab\"/></a>"
      ]
    },
    {
      "cell_type": "code",
      "source": [
        "import pandas as pd\n",
        "import json\n",
        "import requests\n",
        "from bs4 import BeautifulSoup\n",
        "import re\n",
        "import numpy as np\n"
      ],
      "metadata": {
        "id": "nhZj-Bi8Atg2"
      },
      "execution_count": null,
      "outputs": []
    },
    {
      "cell_type": "code",
      "source": [
        "bookID = '176787'"
      ],
      "metadata": {
        "id": "j4Cj1FNgAyDU"
      },
      "execution_count": null,
      "outputs": []
    },
    {
      "cell_type": "code",
      "source": [
        "url = f'http://www.yes24.com/Product/communityModules/GoodsReviewList/{bookID}?Sort=1&PageNumber=1&Type=ALL'\n",
        "response = requests.get(url)\n",
        "soup = BeautifulSoup(response.content, 'html.parser')\n",
        "tmp = soup.find(string=re.compile('reviewCountText'))\n",
        "tmp = str(tmp)\n",
        "cnt = re.findall('(?<= reviewCountText = \\')\\d*(?=\\')', tmp)\n",
        "cnt = int(cnt[0])\n",
        "\n",
        "nPage = int(np.ceil(cnt/5))"
      ],
      "metadata": {
        "id": "q9xZlnJzSP5i"
      },
      "execution_count": null,
      "outputs": []
    },
    {
      "cell_type": "code",
      "source": [
        "data = {'title': [],\n",
        "        'ID': [],\n",
        "        'date': [],\n",
        "        'contRating': [],\n",
        "        'designRating': [],\n",
        "        'text': []}\n",
        "df = pd.DataFrame(data)"
      ],
      "metadata": {
        "id": "MkNNj561QaZh"
      },
      "execution_count": null,
      "outputs": []
    },
    {
      "cell_type": "code",
      "source": [
        "i = 0\n",
        "for n in range(nPage):\n",
        "  PageNumber = n + 1\n",
        "  url = f'http://www.yes24.com/Product/communityModules/GoodsReviewList/{bookID}?Sort=1&PageNumber={PageNumber}&Type=ALL'\n",
        "  response = requests.get(url)\n",
        "  \n",
        "  soup = BeautifulSoup(response.content, 'html.parser')\n",
        "  title = soup.select('span.txt')\n",
        "  ID = soup.select('a.lnk_id')\n",
        "  date = soup.select('em.txt_date')\n",
        "  rating = soup.select('span.review_rating > span.rating');\n",
        "  contRating = rating[0:9:2]; designRating = rating[1:10:2]\n",
        "  text = soup.select('div.reviewInfoBot.origin > div.review_cont')\n",
        "\n",
        "  for r in zip(title, ID, date, contRating, designRating, text):\n",
        "    title, ID, date, contRating, designRating, text = [r[0].get_text(), r[1].get_text(), r[2].get_text(), r[3].get_text(), r[4].get_text(), r[5].get_text()]    \n",
        "    row = [title, ID, date, contRating, designRating, text]\n",
        "    df.loc[i, :] = row\n",
        "    i +=1"
      ],
      "metadata": {
        "id": "YJ6D1OVA4MLk"
      },
      "execution_count": null,
      "outputs": []
    },
    {
      "cell_type": "code",
      "source": [
        "import xlwt\n",
        "df.to_excel('review.xls')"
      ],
      "metadata": {
        "id": "Mgr-AdFGYVIj"
      },
      "execution_count": null,
      "outputs": []
    }
  ]
}