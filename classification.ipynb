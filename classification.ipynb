{
  "nbformat": 4,
  "nbformat_minor": 0,
  "metadata": {
    "colab": {
      "provenance": [],
      "authorship_tag": "ABX9TyPPTaKhkzYaP7MexlUc3W4G",
      "include_colab_link": true
    },
    "kernelspec": {
      "name": "python3",
      "display_name": "Python 3"
    },
    "language_info": {
      "name": "python"
    }
  },
  "cells": [
    {
      "cell_type": "markdown",
      "metadata": {
        "id": "view-in-github",
        "colab_type": "text"
      },
      "source": [
        "<a href=\"https://colab.research.google.com/github/hsnam95/class2022Fall/blob/main/classification.ipynb\" target=\"_parent\"><img src=\"https://colab.research.google.com/assets/colab-badge.svg\" alt=\"Open In Colab\"/></a>"
      ]
    },
    {
      "cell_type": "markdown",
      "metadata": {
        "id": "jXx1hl8Haz_B"
      },
      "source": [
        "## Loading a dataset"
      ]
    },
    {
      "cell_type": "code",
      "source": [
        "import pandas as pd"
      ],
      "metadata": {
        "id": "Og5Gu9lAvOAW"
      },
      "execution_count": null,
      "outputs": []
    },
    {
      "cell_type": "markdown",
      "source": [
        "### iris dataset"
      ],
      "metadata": {
        "id": "U-C2V43QvWU7"
      }
    },
    {
      "cell_type": "code",
      "execution_count": null,
      "metadata": {
        "id": "-1qGv4bFaz_C"
      },
      "outputs": [],
      "source": [
        "iris = pd.read_csv('https://archive.ics.uci.edu/ml/machine-learning-databases/iris/iris.data', names=['sepal_length', 'sepal_width', 'petal_length', 'petal_width', 'label'])\n",
        "from sklearn.preprocessing import LabelEncoder\n",
        "le = LabelEncoder()\n",
        "iris['label'] = le.fit_transform(iris['label'])\n",
        "iris.head()\n",
        "\n",
        "dataset_name, dataset = ('iris', iris)"
      ]
    },
    {
      "cell_type": "markdown",
      "source": [
        "### breast cancer dataset"
      ],
      "metadata": {
        "id": "BAmzSNjVvfwD"
      }
    },
    {
      "cell_type": "code",
      "execution_count": null,
      "metadata": {
        "id": "TUAfbcbTaz_D"
      },
      "outputs": [],
      "source": [
        "breast_cancer = pd.read_csv('https://archive.ics.uci.edu/ml/machine-learning-databases/breast-cancer-wisconsin/breast-cancer-wisconsin.data', names=['id', 'clump_thickness', 'uniformity_of_cell_size', 'uniformity_of_cell_shape', 'marginal_adhesion', 'single_epithelial_cell_size', 'bare_nuclei', 'bland_chromatin', 'normal_nucleoli', 'mitoses', 'label'])\n",
        "breast_cancer.drop(['id'], axis=1, inplace=True)\n",
        "breast_cancer['label'].replace([2, 4], [0, 1], inplace=True)\n",
        "breast_cancer.replace('?', -999999, inplace=True)\n",
        "breast_cancer.head()\n",
        "\n",
        "dataset_name, dataset = ('breast_cancer', breast_cancer)"
      ]
    },
    {
      "cell_type": "markdown",
      "source": [
        "### wine dataset"
      ],
      "metadata": {
        "id": "ssWdyrqavsbT"
      }
    },
    {
      "cell_type": "code",
      "execution_count": null,
      "metadata": {
        "id": "YQcjVDY0az_E"
      },
      "outputs": [],
      "source": [
        "wine = pd.read_csv('https://archive.ics.uci.edu/ml/machine-learning-databases/wine/wine.data', names=['label', 'malic_acid', 'ash', 'alcalinity_of_ash', 'magnesium', 'total_phenols','flavanoids', 'nonflavanoid_phenols' ,'proanthocyanins', 'color_intensity', 'hue', 'OD280/OD315_of_diluted_wines', 'proline'], delimiter=\",\", index_col=False)\n",
        "wine.head()\n",
        "\n",
        "dataset_name, dataset = ('wine', wine)"
      ]
    },
    {
      "cell_type": "markdown",
      "metadata": {
        "id": "kKgDxumOaz_J"
      },
      "source": [
        "## Comparing 6 classification algorithms"
      ]
    },
    {
      "cell_type": "code",
      "execution_count": null,
      "metadata": {
        "id": "eWToHFv_az_J"
      },
      "outputs": [],
      "source": [
        "from sklearn.linear_model import LogisticRegression\n",
        "from sklearn.naive_bayes import GaussianNB\n",
        "from sklearn.svm import SVC\n",
        "from sklearn.neighbors import KNeighborsClassifier\n",
        "from sklearn.tree import DecisionTreeClassifier\n",
        "from sklearn.neural_network import MLPClassifier\n",
        "\n",
        "models = [\n",
        "    ('LR', LogisticRegression()),\n",
        "    ('NB', GaussianNB()),\n",
        "    ('SVM', SVC()),\n",
        "    ('KNN', KNeighborsClassifier()),\n",
        "    ('DT', DecisionTreeClassifier()),\n",
        "    ('NN', MLPClassifier()),\n",
        "]"
      ]
    },
    {
      "cell_type": "code",
      "execution_count": null,
      "metadata": {
        "id": "ZoFEHsC2az_J"
      },
      "outputs": [],
      "source": [
        "from sklearn.model_selection import train_test_split\n",
        "import numpy as np\n",
        "\n",
        "X = np.array(dataset.drop(['label'], axis=1))\n",
        "y = np.array(dataset['label'])\n",
        "X_train, X_test, y_train, y_test = train_test_split(X, y, test_size=0.2, random_state=42)\n",
        "for name, model in models:\n",
        "  clf = model\n",
        "  clf.fit(X_train, y_train)\n",
        "  accuracy = clf.score(X_test, y_test)\n",
        "  print(dataset_name, name, accuracy)"
      ]
    }
  ]
}